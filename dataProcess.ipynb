{
 "cells": [
  {
   "cell_type": "code",
   "execution_count": 6,
   "id": "66591fed",
   "metadata": {},
   "outputs": [
    {
     "name": "stdout",
     "output_type": "stream",
     "text": [
      "Converted ICLR2019data.md to ICLR2019data.csv\n"
     ]
    }
   ],
   "source": [
    "import pandas as pd\n",
    "\n",
    "def markdown_to_csv(markdown_file_path):\n",
    "    # 读取Markdown文件\n",
    "    with open(markdown_file_path, 'r') as f:\n",
    "        lines = f.readlines()\n",
    "\n",
    "    # 从Markdown表格中提取数据\n",
    "    data = []\n",
    "    for line in lines:\n",
    "        if '|' in line:\n",
    "            row = line.split('|')[1:-1]  # 去掉开头和结尾的 '|'\n",
    "            row = [item.strip() for item in row]  # 去掉每个元素的首尾空白符\n",
    "            data.append(row)\n",
    "\n",
    "    # 转换为DataFrame\n",
    "    df = pd.DataFrame(data[1:], columns=data[0])\n",
    "\n",
    "    # 获取csv文件名\n",
    "    csv_file_name = markdown_file_path.rsplit('.', 1)[0] + '.csv'\n",
    "\n",
    "    # 写入CSV文件\n",
    "    df.to_csv(csv_file_name, index=False)\n",
    "\n",
    "    print(f\"Converted {markdown_file_path} to {csv_file_name}\")\n",
    "markdown_to_csv(\"ICLR2019data.md\")"
   ]
  },
  {
   "cell_type": "code",
   "execution_count": 7,
   "id": "3023a0d1",
   "metadata": {},
   "outputs": [],
   "source": [
    "from sklearn.feature_extraction.text import TfidfVectorizer\n",
    "from sklearn.metrics.pairwise import cosine_similarity\n",
    "\n",
    "def mark_best_papers(csv_file_path, best_papers_txt_file_path):\n",
    "    # 读取CSV文件到一个DataFrame\n",
    "    df = pd.read_csv(csv_file_path)\n",
    "\n",
    "    # 读取Best Paper标题到一个列表，并过滤掉空行\n",
    "    with open(best_papers_txt_file_path, 'r') as f:\n",
    "        best_papers = [line for line in f.read().splitlines() if line]\n",
    "\n",
    "    # 创建一个新的列\"Best Paper\"，并将其初始值设为0\n",
    "    df['Best Paper'] = 0\n",
    "\n",
    "    # 创建一个TF-IDF向量器\n",
    "    vectorizer = TfidfVectorizer()\n",
    "\n",
    "    # 对所有标题（包括CSV文件中的标题和best paper的标题）进行TF-IDF转换\n",
    "    all_titles = df['Title'].tolist() + best_papers\n",
    "    tfidf_matrix = vectorizer.fit_transform(all_titles)\n",
    "\n",
    "    # 计算每个best paper标题与所有CSV文件标题的余弦相似性\n",
    "    for i in range(len(df), len(all_titles)):\n",
    "        cosine_similarities = cosine_similarity(tfidf_matrix[i], tfidf_matrix[:len(df)]).flatten()\n",
    "        # 找到最相似的标题的索引\n",
    "        most_similar_index = cosine_similarities.argmax()\n",
    "        # 将相应的行标记为best paper\n",
    "        df.loc[most_similar_index, 'Best Paper'] = 1\n",
    "\n",
    "    # 将结果保存到CSV文件中\n",
    "    df.to_csv(csv_file_path, index=False)\n",
    "mark_best_papers(\"ICLR2019data.csv\",\"bestPaperICLR2019.txt\")"
   ]
  }
 ],
 "metadata": {
  "kernelspec": {
   "display_name": "Python 3 (ipykernel)",
   "language": "python",
   "name": "python3"
  },
  "language_info": {
   "codemirror_mode": {
    "name": "ipython",
    "version": 3
   },
   "file_extension": ".py",
   "mimetype": "text/x-python",
   "name": "python",
   "nbconvert_exporter": "python",
   "pygments_lexer": "ipython3",
   "version": "3.8.13"
  }
 },
 "nbformat": 4,
 "nbformat_minor": 5
}
